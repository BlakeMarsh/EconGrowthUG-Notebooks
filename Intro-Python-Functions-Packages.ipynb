{
 "cells": [
  {
   "cell_type": "markdown",
   "id": "53b3bcfd-9813-42fb-88a7-b50288914788",
   "metadata": {
    "slideshow": {
     "slide_type": "slide"
    },
    "tags": [],
    "user_expressions": []
   },
   "source": [
    "# <center>Introduction to <img src=\"https://www.python.org/static/community_logos/python-logo-inkscape.svg\" alt=\"Python\" width=300/> and <img src=\"https://ipython.org/_static/IPy_header.png\" alt=\"IPython\" width=300/> using <img src=\"https://raw.githubusercontent.com/adebar/awesome-jupyter/master/logo.png\" alt=\"Jupyter\" width=300/></center>"
   ]
  },
  {
   "cell_type": "markdown",
   "id": "7e02398d-0f57-4539-b4d7-b6d4538245c5",
   "metadata": {
    "slideshow": {
     "slide_type": "slide"
    },
    "tags": [],
    "user_expressions": []
   },
   "source": [
    "# Functions"
   ]
  },
  {
   "cell_type": "markdown",
   "id": "5f246534-a48e-4150-851e-f0da90d26b20",
   "metadata": {
    "slideshow": {
     "slide_type": "fragment"
    },
    "user_expressions": []
   },
   "source": [
    "Many times we need to perform computations or things Python does not know how to do natively. "
   ]
  },
  {
   "cell_type": "markdown",
   "id": "bf89e80a-f017-41ba-8805-a30e66903c04",
   "metadata": {
    "slideshow": {
     "slide_type": "fragment"
    },
    "user_expressions": []
   },
   "source": [
    "Other times, we want the same piece of code to work with other inputs (data, values, etc.)"
   ]
  },
  {
   "cell_type": "markdown",
   "id": "c5751808-07e3-4f61-9899-bc079f452d09",
   "metadata": {
    "slideshow": {
     "slide_type": "fragment"
    },
    "user_expressions": []
   },
   "source": [
    "What can we do?"
   ]
  },
  {
   "cell_type": "markdown",
   "id": "63e987c7-ffd2-4d2d-bd8f-0de396455ec6",
   "metadata": {
    "slideshow": {
     "slide_type": "subslide"
    },
    "tags": [],
    "user_expressions": []
   },
   "source": [
    "### Solution: Write a function"
   ]
  },
  {
   "cell_type": "markdown",
   "id": "fe26dda6-5b49-44fd-a615-6b6b34336ae2",
   "metadata": {
    "slideshow": {
     "slide_type": "fragment"
    },
    "user_expressions": []
   },
   "source": [
    "There are two ways of defining functions in Python:"
   ]
  },
  {
   "cell_type": "markdown",
   "id": "bd48bd9d-b3d7-40f6-aba3-1236b0769dc8",
   "metadata": {
    "slideshow": {
     "slide_type": "fragment"
    },
    "tags": [],
    "user_expressions": []
   },
   "source": [
    "1. Using *anonymous functions* via the `lambda` notation:\n",
    "```python\n",
    "my_function = lambda x: some_computations_based_on_x\n",
    "```  "
   ]
  },
  {
   "cell_type": "markdown",
   "id": "f3e9ba76-553d-457f-adb6-bc29ef05219a",
   "metadata": {
    "slideshow": {
     "slide_type": "fragment"
    },
    "tags": [],
    "user_expressions": []
   },
   "source": [
    "* `lambda` notation is useful to create functions on the go, especially when passing a function to others. We'll see examples and use it quite a bit later when we go into data analyses."
   ]
  },
  {
   "cell_type": "markdown",
   "id": "7e996441-0f4f-4514-850a-fbf4114689eb",
   "metadata": {
    "slideshow": {
     "slide_type": "fragment"
    },
    "tags": [],
    "user_expressions": []
   },
   "source": [
    "* A `lambda` function can take any number of arguments, but can only have one expression, i.e., you cannot perform complex computations."
   ]
  },
  {
   "cell_type": "markdown",
   "id": "61c3fa89-f5a8-4118-9a10-97dbc21eb50d",
   "metadata": {
    "slideshow": {
     "slide_type": "subslide"
    },
    "user_expressions": []
   },
   "source": [
    "2. Using the `def` statement:\n",
    "```python\n",
    "def my_function(x, y, z=Z):\n",
    "    '''\n",
    "    Explanation of what the function does\n",
    "    What are the inputs:\n",
    "    x: variable to be passed\n",
    "    y: variable to be passed\n",
    "    z: variable to be passed, Z is the default value\n",
    "    '''\n",
    "    perform_computations\n",
    "    return some_value_or_computation\n",
    "```"
   ]
  },
  {
   "cell_type": "markdown",
   "id": "12f2d753-cb1e-4077-b7de-d60a6e2f043d",
   "metadata": {
    "slideshow": {
     "slide_type": "subslide"
    },
    "tags": [],
    "user_expressions": []
   },
   "source": [
    "* Functions defined with the `def` statement can take any number of arguments, assign default values to them, and can have as many expressions as needed."
   ]
  },
  {
   "cell_type": "markdown",
   "id": "bd57eab5-bb0a-404f-8ec1-1e6792ee6161",
   "metadata": {
    "slideshow": {
     "slide_type": "fragment"
    },
    "tags": [],
    "user_expressions": []
   },
   "source": [
    "<div class=\"alert alert-block alert-info\">\n",
    "    <b>Note:</b> There is special horizontal spacing below the line that starts with <code>def</code> and all lines below it are aligned in the <code>def</code> statement. This is similar to the other statements we have seen so far.\n",
    "</div>"
   ]
  },
  {
   "cell_type": "markdown",
   "id": "c18dca89-faa3-4786-a33d-9fe66f21f969",
   "metadata": {
    "slideshow": {
     "slide_type": "subslide"
    }
   },
   "source": [
    "# Example"
   ]
  },
  {
   "cell_type": "markdown",
   "id": "9b64ed97-2227-4971-a38d-1f78d24199e1",
   "metadata": {
    "slideshow": {
     "slide_type": "fragment"
    },
    "tags": [],
    "user_expressions": []
   },
   "source": [
    "Let's create a function that computes the square of a number. Let's do it first using an anonymous function."
   ]
  },
  {
   "cell_type": "code",
   "execution_count": 1,
   "id": "170cabfa-2582-4fee-be4a-11809b1f5ae1",
   "metadata": {
    "slideshow": {
     "slide_type": "fragment"
    }
   },
   "outputs": [],
   "source": [
    "my_square = lambda x: x**2"
   ]
  },
  {
   "cell_type": "code",
   "execution_count": 2,
   "id": "f6659361-b1e3-440f-a147-2975f363a187",
   "metadata": {
    "slideshow": {
     "slide_type": "fragment"
    }
   },
   "outputs": [
    {
     "data": {
      "text/plain": [
       "16"
      ]
     },
     "execution_count": 2,
     "metadata": {},
     "output_type": "execute_result"
    }
   ],
   "source": [
    "my_square(4)"
   ]
  },
  {
   "cell_type": "code",
   "execution_count": 3,
   "id": "03d9ac2d-0091-492a-ae9c-059bd7439db6",
   "metadata": {
    "slideshow": {
     "slide_type": "fragment"
    }
   },
   "outputs": [
    {
     "data": {
      "text/plain": [
       "81"
      ]
     },
     "execution_count": 3,
     "metadata": {},
     "output_type": "execute_result"
    }
   ],
   "source": [
    "my_square(9)"
   ]
  },
  {
   "cell_type": "markdown",
   "id": "1deef93d-18b1-42e3-ad65-0535125e0cf7",
   "metadata": {
    "slideshow": {
     "slide_type": "subslide"
    },
    "tags": [],
    "user_expressions": []
   },
   "source": [
    "Now, let's create the same function using the `def` statement, which we will call create/write a function as opposed to an anonymous function."
   ]
  },
  {
   "cell_type": "code",
   "execution_count": 4,
   "id": "30cf0a1d-7507-4089-8842-d16468794f4e",
   "metadata": {
    "slideshow": {
     "slide_type": "fragment"
    }
   },
   "outputs": [],
   "source": [
    "def my_square_fn(x):\n",
    "    '''\n",
    "    This function take an input x and return x^2.\n",
    "    Parameters:\n",
    "    -----------\n",
    "    x: float, integer or any other number\n",
    "    \n",
    "    Returns:\n",
    "    --------\n",
    "    out = x**2\n",
    "    \n",
    "    Example:\n",
    "    >>> out = my_square_fn(4)\n",
    "    >>> out\n",
    "        16\n",
    "    '''\n",
    "    return x**2"
   ]
  },
  {
   "cell_type": "code",
   "execution_count": 5,
   "id": "5fd80b81-42f3-41fa-97a0-3a1f4bb07d20",
   "metadata": {
    "slideshow": {
     "slide_type": "subslide"
    }
   },
   "outputs": [
    {
     "data": {
      "text/plain": [
       "16"
      ]
     },
     "execution_count": 5,
     "metadata": {},
     "output_type": "execute_result"
    }
   ],
   "source": [
    "my_square_fn(4)"
   ]
  },
  {
   "cell_type": "code",
   "execution_count": 6,
   "id": "ff522b4f-77a2-493e-a4f0-0cf7c67b840a",
   "metadata": {
    "slideshow": {
     "slide_type": "fragment"
    }
   },
   "outputs": [],
   "source": [
    "my_square_fn?"
   ]
  },
  {
   "cell_type": "markdown",
   "id": "a6826b12-4cef-474a-a4b4-51f47e42d8d1",
   "metadata": {
    "slideshow": {
     "slide_type": "slide"
    },
    "tags": [],
    "user_expressions": []
   },
   "source": [
    "# Some useful functions in Python"
   ]
  },
  {
   "cell_type": "markdown",
   "id": "6048ecfd-c258-4b71-a4a4-e709ee37d7fc",
   "metadata": {
    "slideshow": {
     "slide_type": "subslide"
    },
    "tags": [],
    "user_expressions": []
   },
   "source": [
    "* `range(from, to, step)` creates a sequence of numbers from `from` to `to` increasing by `step`"
   ]
  },
  {
   "cell_type": "code",
   "execution_count": 7,
   "id": "00819892-82d8-4464-a798-7871516ec3ee",
   "metadata": {
    "slideshow": {
     "slide_type": "fragment"
    }
   },
   "outputs": [
    {
     "data": {
      "text/plain": [
       "[2, 5, 8, 11, 14, 17]"
      ]
     },
     "execution_count": 7,
     "metadata": {},
     "output_type": "execute_result"
    }
   ],
   "source": [
    "list(range(2, 20, 3))"
   ]
  },
  {
   "cell_type": "code",
   "execution_count": 8,
   "id": "52b6c707-c2f2-4a3e-9fe3-80cdd0d2a72a",
   "metadata": {
    "slideshow": {
     "slide_type": "fragment"
    }
   },
   "outputs": [
    {
     "data": {
      "text/plain": [
       "[0, 1, 2, 3, 4]"
      ]
     },
     "execution_count": 8,
     "metadata": {},
     "output_type": "execute_result"
    }
   ],
   "source": [
    "list(range(5))"
   ]
  },
  {
   "cell_type": "markdown",
   "id": "4937f60f-4d17-40fe-afdb-e6e196ebf5da",
   "metadata": {
    "slideshow": {
     "slide_type": "subslide"
    },
    "tags": [],
    "user_expressions": []
   },
   "source": [
    "* `print(string)` prints a string"
   ]
  },
  {
   "cell_type": "code",
   "execution_count": 9,
   "id": "f549b8b8-c7ec-4418-bdcf-f9f9551f5d32",
   "metadata": {
    "slideshow": {
     "slide_type": "fragment"
    }
   },
   "outputs": [
    {
     "name": "stdout",
     "output_type": "stream",
     "text": [
      "The square of 100 is 10000\n",
      "The square of 100 is 10000\n"
     ]
    }
   ],
   "source": [
    "print('The square of 100 is', my_square(100))\n",
    "print('The square of 100 is ' + str(my_square(100)))"
   ]
  },
  {
   "cell_type": "markdown",
   "id": "439d3935-336b-45fe-9631-c15ecb0cdc1e",
   "metadata": {
    "slideshow": {
     "slide_type": "subslide"
    },
    "tags": [],
    "user_expressions": []
   },
   "source": [
    "* `len(x)` returns the length of element `x`"
   ]
  },
  {
   "cell_type": "code",
   "execution_count": 10,
   "id": "33153265-d7e0-446c-b1d6-3cb14c2d2e8a",
   "metadata": {
    "slideshow": {
     "slide_type": "fragment"
    }
   },
   "outputs": [
    {
     "data": {
      "text/plain": [
       "100"
      ]
     },
     "execution_count": 10,
     "metadata": {},
     "output_type": "execute_result"
    }
   ],
   "source": [
    "len(range(100))"
   ]
  },
  {
   "cell_type": "code",
   "execution_count": 11,
   "id": "d9d31fdf-3d30-4146-94b7-9c2e03909657",
   "metadata": {
    "slideshow": {
     "slide_type": "fragment"
    }
   },
   "outputs": [
    {
     "data": {
      "text/plain": [
       "33"
      ]
     },
     "execution_count": 11,
     "metadata": {},
     "output_type": "execute_result"
    }
   ],
   "source": [
    "len('Some random string ndsyafsdasdwne')"
   ]
  },
  {
   "cell_type": "markdown",
   "id": "43dc9647-27ac-43c4-bcd0-3380ca29fe06",
   "metadata": {
    "slideshow": {
     "slide_type": "subslide"
    },
    "tags": [],
    "user_expressions": []
   },
   "source": [
    "* `type(x)` returns the type of `x`"
   ]
  },
  {
   "cell_type": "code",
   "execution_count": 12,
   "id": "f9ae945f-3d3a-42ff-8ff6-c57070b3a306",
   "metadata": {
    "slideshow": {
     "slide_type": "fragment"
    }
   },
   "outputs": [
    {
     "data": {
      "text/plain": [
       "str"
      ]
     },
     "execution_count": 12,
     "metadata": {},
     "output_type": "execute_result"
    }
   ],
   "source": [
    "type('hello')"
   ]
  },
  {
   "cell_type": "code",
   "execution_count": 13,
   "id": "e35a4a01-624e-4865-bc1a-6ed9421e0768",
   "metadata": {
    "slideshow": {
     "slide_type": "fragment"
    }
   },
   "outputs": [
    {
     "data": {
      "text/plain": [
       "float"
      ]
     },
     "execution_count": 13,
     "metadata": {},
     "output_type": "execute_result"
    }
   ],
   "source": [
    "type(3.1415)"
   ]
  },
  {
   "cell_type": "code",
   "execution_count": 14,
   "id": "9f079de8-df33-466b-a55d-beb96f43fdb3",
   "metadata": {
    "slideshow": {
     "slide_type": "fragment"
    }
   },
   "outputs": [
    {
     "data": {
      "text/plain": [
       "int"
      ]
     },
     "execution_count": 14,
     "metadata": {},
     "output_type": "execute_result"
    }
   ],
   "source": [
    "type(10)"
   ]
  },
  {
   "cell_type": "code",
   "execution_count": 15,
   "id": "15a7a8ab-8141-4f87-97fc-6db094ffbeab",
   "metadata": {
    "slideshow": {
     "slide_type": "fragment"
    }
   },
   "outputs": [
    {
     "data": {
      "text/plain": [
       "list"
      ]
     },
     "execution_count": 15,
     "metadata": {},
     "output_type": "execute_result"
    }
   ],
   "source": [
    "type([1, 'a', 3])"
   ]
  },
  {
   "cell_type": "markdown",
   "id": "177c2abc-d07a-4c88-bdd1-5b94e72e5337",
   "metadata": {
    "slideshow": {
     "slide_type": "slide"
    },
    "user_expressions": []
   },
   "source": [
    "## But what if Python does not have the function we need?"
   ]
  },
  {
   "cell_type": "markdown",
   "id": "7675af40-3eac-4db1-ae42-ab56e7e9d564",
   "metadata": {
    "slideshow": {
     "slide_type": "fragment"
    },
    "tags": [],
    "user_expressions": []
   },
   "source": [
    "## Do we need to write all the functions?"
   ]
  },
  {
   "cell_type": "markdown",
   "id": "f8d78b18-f3da-4a69-a44e-22c89bba5dcb",
   "metadata": {
    "slideshow": {
     "slide_type": "fragment"
    },
    "tags": [],
    "user_expressions": []
   },
   "source": [
    "## Luckily...No"
   ]
  },
  {
   "cell_type": "markdown",
   "id": "e51bea53-4d19-448e-8125-9807a803b5c1",
   "metadata": {
    "slideshow": {
     "slide_type": "slide"
    },
    "tags": [],
    "user_expressions": []
   },
   "source": [
    "# Extending Python's Functionality with Packages"
   ]
  },
  {
   "cell_type": "markdown",
   "id": "4bc0b4bd-9f93-407e-967d-f445d4f9461c",
   "metadata": {
    "slideshow": {
     "slide_type": "fragment"
    },
    "tags": [],
    "user_expressions": []
   },
   "source": [
    "One of the reasons people like Python is that there are lots of ready to use functions and solutions out there\n",
    "\n",
    "<center><img src=\"https://github.com/SMU-Econ-Growth/EconGrowthUG-Notebooks/blob/main/pics/X-files-truth-is-out-there.jpg?raw=true\" alt=\"X-files\" width=50%/></center>"
   ]
  },
  {
   "cell_type": "markdown",
   "id": "3b8538bc-fd25-4212-aa69-b5390dc4d2b4",
   "metadata": {
    "slideshow": {
     "slide_type": "subslide"
    },
    "user_expressions": []
   },
   "source": [
    "In order to use a package/module in Python or IPython, say `mypackage`, you need to import it, by executing\n",
    "```python\n",
    "import mypackage\n",
    "```"
   ]
  },
  {
   "cell_type": "markdown",
   "id": "074e410b-c942-44ca-aed4-b4ff33fd7630",
   "metadata": {
    "slideshow": {
     "slide_type": "fragment"
    },
    "user_expressions": []
   },
   "source": [
    "After executing this command, you will have access to the functions and objects defined in `mypackage`. \n",
    "For example, if `mypackage` has a function `squared` that takes a real number `x` and computes its square, \n",
    "we can use this function by calling `mypackage.squared(x)`. "
   ]
  },
  {
   "cell_type": "markdown",
   "id": "a1bb6c9d-fb7b-42d8-9df8-dd36650a9a97",
   "metadata": {
    "slideshow": {
     "slide_type": "subslide"
    },
    "tags": [],
    "user_expressions": []
   },
   "source": [
    "Since the name of some packages might be too long, your can give them a nickname by importing them instead as\n",
    "```python    \n",
    "import mypackage as myp\n",
    "```\n",
    "so now we could compute the square of `x` by calling `myp.squared(x)`."
   ]
  },
  {
   "cell_type": "markdown",
   "id": "da0a1aa0-d2aa-49de-8ec7-94e62237362a",
   "metadata": {
    "slideshow": {
     "slide_type": "fragment"
    },
    "tags": [],
    "user_expressions": []
   },
   "source": [
    "We will use various packages that will be useful to do computations, statistics, plots, data management, etc."
   ]
  },
  {
   "cell_type": "markdown",
   "id": "f8f381fd",
   "metadata": {
    "slideshow": {
     "slide_type": "slide"
    }
   },
   "source": [
    "# Managing the Operating System with os"
   ]
  },
  {
   "cell_type": "markdown",
   "id": "71a3ab7c",
   "metadata": {
    "slideshow": {
     "slide_type": "fragment"
    }
   },
   "source": [
    "[os](https://docs.python.org/3/library/os.html) is the fundamental module to interact with your computer's operating system."
   ]
  },
  {
   "cell_type": "markdown",
   "id": "296b0cf3",
   "metadata": {
    "slideshow": {
     "slide_type": "subslide"
    }
   },
   "source": [
    "With `os` you can:"
   ]
  },
  {
   "cell_type": "markdown",
   "id": "ec7049c8",
   "metadata": {
    "slideshow": {
     "slide_type": "fragment"
    }
   },
   "source": [
    "* Get environment variables"
   ]
  },
  {
   "cell_type": "markdown",
   "id": "1c6b3b66",
   "metadata": {
    "slideshow": {
     "slide_type": "fragment"
    }
   },
   "source": [
    "* Verify if a file or directory exists"
   ]
  },
  {
   "cell_type": "markdown",
   "id": "dd86c3fb",
   "metadata": {
    "slideshow": {
     "slide_type": "fragment"
    }
   },
   "source": [
    "* Change directories"
   ]
  },
  {
   "cell_type": "markdown",
   "id": "56182090",
   "metadata": {
    "slideshow": {
     "slide_type": "fragment"
    }
   },
   "source": [
    "* Create a file or directory"
   ]
  },
  {
   "cell_type": "markdown",
   "id": "d3878ce8",
   "metadata": {
    "slideshow": {
     "slide_type": "fragment"
    }
   },
   "source": [
    "* Delete files or directories"
   ]
  },
  {
   "cell_type": "code",
   "execution_count": 1,
   "id": "2ba43a98",
   "metadata": {
    "slideshow": {
     "slide_type": "subslide"
    }
   },
   "outputs": [],
   "source": [
    "import os"
   ]
  },
  {
   "cell_type": "markdown",
   "id": "d8b7b630",
   "metadata": {
    "slideshow": {
     "slide_type": "fragment"
    }
   },
   "source": [
    "### Get the home directory of current user"
   ]
  },
  {
   "cell_type": "code",
   "execution_count": 2,
   "id": "0a96c92c",
   "metadata": {
    "slideshow": {
     "slide_type": "-"
    }
   },
   "outputs": [
    {
     "data": {
      "text/plain": [
       "'/Users/ozak'"
      ]
     },
     "execution_count": 2,
     "metadata": {},
     "output_type": "execute_result"
    }
   ],
   "source": [
    "os.getenv('HOME')"
   ]
  },
  {
   "cell_type": "markdown",
   "id": "3b2237e0",
   "metadata": {
    "slideshow": {
     "slide_type": "subslide"
    }
   },
   "source": [
    "### Verify if `pics` directory exists"
   ]
  },
  {
   "cell_type": "code",
   "execution_count": 3,
   "id": "794fa641",
   "metadata": {
    "slideshow": {
     "slide_type": "-"
    }
   },
   "outputs": [
    {
     "data": {
      "text/plain": [
       "True"
      ]
     },
     "execution_count": 3,
     "metadata": {},
     "output_type": "execute_result"
    }
   ],
   "source": [
    "os.path.exists('pics')"
   ]
  },
  {
   "cell_type": "markdown",
   "id": "7c9360e5-168b-4218-be7e-bc2fcbe2f763",
   "metadata": {
    "slideshow": {
     "slide_type": "slide"
    },
    "tags": [],
    "user_expressions": []
   },
   "source": [
    "# Plots with \n",
    "<center><img src=\"https://raw.githubusercontent.com/SMU-Econ-Growth/EconGrowthUG-Notebooks/main/pics/matplotlib.svg\" alt=\"matplotlib\" width=25%/></center>"
   ]
  },
  {
   "cell_type": "markdown",
   "id": "409791a5-b70b-40b1-8cfb-b25875eae62e",
   "metadata": {
    "slideshow": {
     "slide_type": "fragment"
    },
    "tags": [],
    "user_expressions": []
   },
   "source": [
    "[Matplotlib](https://matplotlib.org/) is the fundamental package for plotting in Python. \n",
    "\n",
    "All other plotting packages are built on top of it and expand it.\n",
    "\n",
    "You can find examples of plots in their [Gallery](https://matplotlib.org/stable/gallery/index.html)."
   ]
  },
  {
   "cell_type": "markdown",
   "id": "502c990b-1189-46b1-8cbf-702cec718fe3",
   "metadata": {
    "slideshow": {
     "slide_type": "subslide"
    },
    "user_expressions": []
   },
   "source": [
    "It is the norm to import matplotlib and its pyplot component as follows (and I suggest you do the same):\n",
    "```python\n",
    "import matplotlib as mpl\n",
    "import matplotlib.pyplot as plt\n",
    "%matplotlib matlab_type\n",
    "```\n",
    "where `matlab_type` can be `inline` or `widget`. \n",
    "\n",
    "`widget` provides interactive plots, while `inline` generates static plots."
   ]
  },
  {
   "cell_type": "code",
   "execution_count": 2,
   "id": "e775db0c-a012-42ab-a348-919ce32e0460",
   "metadata": {
    "slideshow": {
     "slide_type": "fragment"
    }
   },
   "outputs": [],
   "source": [
    "import matplotlib as mpl\n",
    "import matplotlib.pyplot as plt\n",
    "%matplotlib widget"
   ]
  },
  {
   "cell_type": "markdown",
   "id": "5dbf1723-4aa8-4ff3-92d2-b1e5553cf9df",
   "metadata": {
    "slideshow": {
     "slide_type": "subslide"
    },
    "tags": [],
    "user_expressions": []
   },
   "source": [
    "Let's plot a line connecting a few points in a plot"
   ]
  },
  {
   "cell_type": "code",
   "execution_count": 3,
   "id": "d33f67c3-26a5-473a-8be3-0c9a20a03719",
   "metadata": {
    "slideshow": {
     "slide_type": "fragment"
    }
   },
   "outputs": [
    {
     "data": {
      "text/plain": [
       "<matplotlib.legend.Legend at 0x109b09c40>"
      ]
     },
     "execution_count": 3,
     "metadata": {},
     "output_type": "execute_result"
    },
    {
     "data": {
      "application/vnd.jupyter.widget-view+json": {
       "model_id": "efbfc548861b471eae85bb5e0436906e",
       "version_major": 2,
       "version_minor": 0
      },
      "image/png": "[encoded data removed]",
      "text/html": [
       "\n",
       "            <div style=\"display: inline-block;\">\n",
       "                <div class=\"jupyter-widgets widget-label\" style=\"text-align: center;\">\n",
       "                    Figure\n",
       "                </div>\n",
       "                <img src='data:image/png;base64,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' width=640.0/>\n",
       "            </div>\n",
       "        "
      ],
      "text/plain": [
       "Canvas(toolbar=Toolbar(toolitems=[('Home', 'Reset original view', 'home', 'home'), ('Back', 'Back to previous …"
      ]
     },
     "metadata": {},
     "output_type": "display_data"
    }
   ],
   "source": [
    "x = [0, 1, 2, 3]\n",
    "y = [0, 1, 4, 9]\n",
    "plt.plot(x, y, c='r', marker='o', linestyle=':', label=r'$y=x^2$')\n",
    "plt.legend()"
   ]
  },
  {
   "cell_type": "markdown",
   "id": "3f23bef1-942d-41f8-b273-13039bfff16e",
   "metadata": {
    "slideshow": {
     "slide_type": "subslide"
    },
    "user_expressions": []
   },
   "source": [
    "Let's plot various lines and points with different colors and styles, and add labels etc."
   ]
  },
  {
   "cell_type": "code",
   "execution_count": 6,
   "id": "f729e37d-2f03-4d11-90c4-d5251fac9e9f",
   "metadata": {
    "slideshow": {
     "slide_type": "fragment"
    }
   },
   "outputs": [],
   "source": [
    "x = [i/10 for i in range(0, 100)]\n",
    "y = [i**2 for i in x]\n",
    "z = [100 - 1/4 * i**2 + i for i in x]"
   ]
  },
  {
   "cell_type": "code",
   "execution_count": 7,
   "id": "4280695d-cc17-44c0-a941-162bd76a46be",
   "metadata": {
    "slideshow": {
     "slide_type": "subslide"
    }
   },
   "outputs": [
    {
     "data": {
      "application/vnd.jupyter.widget-view+json": {
       "model_id": "020091babd344ace8464d2e071d0102b",
       "version_major": 2,
       "version_minor": 0
      },
      "image/png": "[encoded data removed]",
      "text/html": [
       "\n",
       "            <div style=\"display: inline-block;\">\n",
       "                <div class=\"jupyter-widgets widget-label\" style=\"text-align: center;\">\n",
       "                    Figure\n",
       "                </div>\n",
       "                <img src='data:image/png;base64,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' width=800.0/>\n",
       "            </div>\n",
       "        "
      ],
      "text/plain": [
       "Canvas(toolbar=Toolbar(toolitems=[('Home', 'Reset original view', 'home', 'home'), ('Back', 'Back to previous …"
      ]
     },
     "metadata": {},
     "output_type": "display_data"
    }
   ],
   "source": [
    "fig, ax = plt.subplots(figsize=(8,5))\n",
    "ax.plot(x, y, c='r', marker='o', markersize=4, linestyle='-.', label=r'$y=x^2$')\n",
    "ax.plot(x, z, c='b', marker='D', markersize=4, linestyle='-', label=r'$y=100-\\frac{1}{4}x^2 + x$')\n",
    "ax.set_xlabel(r'$x$', fontsize=18)\n",
    "ax.set_ylabel(r'Value', fontsize=18)\n",
    "ax.set_title(r'Some Plots', fontsize=24)\n",
    "ax.legend(fontsize=18)\n",
    "plt.savefig('./pics/some-plots.png')\n",
    "plt.savefig('./pics/some-plots.pdf')"
   ]
  },
  {
   "cell_type": "markdown",
   "id": "8994817f-8ec2-412c-baa0-1724e85dc12b",
   "metadata": {
    "slideshow": {
     "slide_type": "slide"
    },
    "tags": [],
    "user_expressions": []
   },
   "source": [
    "# <center>Numerical Computations with NumPy</center>\n",
    "<center><img src=\"https://raw.githubusercontent.com/SMU-Econ-Growth/EconGrowthUG-Notebooks/main/pics/numpy.svg\" alt=\"NumPy\" width=10%/></center>"
   ]
  },
  {
   "cell_type": "markdown",
   "id": "84a13f1f-e844-4995-b533-ddac4794dc73",
   "metadata": {
    "slideshow": {
     "slide_type": "subslide"
    },
    "tags": [],
    "user_expressions": []
   },
   "source": [
    "[NumPy](https://numpy.org/) is one of the fundamental packages for scientific computing with Python.\n",
    "\n",
    "It provides many functions, objects, elements, etc. for doing all kinds of numerical computations, e.g.,\n",
    "* Constants: Euler, Pi\n",
    "* Matrices, vectors, arrays\n",
    "* Functions: Logarithms, roots, inverses\n",
    "* Random number generators\n",
    "* Optimization algorithms"
   ]
  },
  {
   "cell_type": "markdown",
   "id": "85a2b959-003b-470d-a718-76d9d63c66a6",
   "metadata": {
    "slideshow": {
     "slide_type": "subslide"
    },
    "tags": [],
    "user_expressions": []
   },
   "source": [
    "It is the norm to import NumPy as follows (and I suggest you do the same):\n",
    "```python\n",
    "import numpy as np\n",
    "```"
   ]
  },
  {
   "cell_type": "code",
   "execution_count": 5,
   "id": "b78e35ad-20b2-4b5b-9467-419fd3ca4327",
   "metadata": {
    "slideshow": {
     "slide_type": "fragment"
    }
   },
   "outputs": [],
   "source": [
    "import numpy as np"
   ]
  },
  {
   "cell_type": "markdown",
   "id": "63f0ebd1-64c0-4c84-bb9d-2e10608b71db",
   "metadata": {
    "slideshow": {
     "slide_type": "subslide"
    },
    "tags": [],
    "user_expressions": []
   },
   "source": [
    "Once it is imported we can start doing computations with it. \n",
    "\n",
    "The main type of object we will use is a NumPy array, which we create by\n",
    "```python\n",
    "my_array = np.array(list_of_numbers)\n",
    "```\n",
    "e.g.,"
   ]
  },
  {
   "cell_type": "code",
   "execution_count": 6,
   "id": "0b7e8bd4-8dd0-43fa-8368-e62d99a11a8e",
   "metadata": {
    "slideshow": {
     "slide_type": "subslide"
    }
   },
   "outputs": [],
   "source": [
    "c = [1, 2]\n",
    "d = [[1, 2], [3, 4]]\n",
    "ca = np.array(c)\n",
    "da = np.array(d) "
   ]
  },
  {
   "cell_type": "code",
   "execution_count": 7,
   "id": "05ec4d3f-8844-4655-bdf6-1785ada2ff8e",
   "metadata": {
    "slideshow": {
     "slide_type": "fragment"
    }
   },
   "outputs": [
    {
     "data": {
      "text/plain": [
       "array([1, 2])"
      ]
     },
     "execution_count": 7,
     "metadata": {},
     "output_type": "execute_result"
    }
   ],
   "source": [
    "ca"
   ]
  },
  {
   "cell_type": "code",
   "execution_count": 8,
   "id": "fc594fba-5e98-4344-9afd-8f3292a719dd",
   "metadata": {
    "slideshow": {
     "slide_type": "fragment"
    }
   },
   "outputs": [
    {
     "data": {
      "text/plain": [
       "array([[1, 2],\n",
       "       [3, 4]])"
      ]
     },
     "execution_count": 8,
     "metadata": {},
     "output_type": "execute_result"
    }
   ],
   "source": [
    "da"
   ]
  },
  {
   "cell_type": "markdown",
   "id": "21a004ea-bb09-4f7b-a08c-639970402993",
   "metadata": {
    "slideshow": {
     "slide_type": "subslide"
    },
    "user_expressions": []
   },
   "source": [
    "With our arrays we can easily perform computations on each element."
   ]
  },
  {
   "cell_type": "code",
   "execution_count": 9,
   "id": "7672a4f2-6a9a-4ee4-a26e-d27c60b9bc9a",
   "metadata": {
    "slideshow": {
     "slide_type": "fragment"
    }
   },
   "outputs": [
    {
     "data": {
      "text/plain": [
       "array([1, 4])"
      ]
     },
     "execution_count": 9,
     "metadata": {},
     "output_type": "execute_result"
    }
   ],
   "source": [
    "ca**2"
   ]
  },
  {
   "cell_type": "code",
   "execution_count": 10,
   "id": "20dc031c-b714-42d8-885f-04c5cc9a37e1",
   "metadata": {
    "slideshow": {
     "slide_type": "fragment"
    }
   },
   "outputs": [
    {
     "data": {
      "text/plain": [
       "array([[ 3,  6],\n",
       "       [ 9, 12]])"
      ]
     },
     "execution_count": 10,
     "metadata": {},
     "output_type": "execute_result"
    }
   ],
   "source": [
    "da * 3"
   ]
  },
  {
   "cell_type": "code",
   "execution_count": 11,
   "id": "f599a2ca-c891-4638-b6fd-056ddabb565c",
   "metadata": {
    "slideshow": {
     "slide_type": "fragment"
    }
   },
   "outputs": [
    {
     "data": {
      "text/plain": [
       "array([[1, 4],\n",
       "       [3, 8]])"
      ]
     },
     "execution_count": 11,
     "metadata": {},
     "output_type": "execute_result"
    }
   ],
   "source": [
    "ca*da"
   ]
  },
  {
   "cell_type": "markdown",
   "id": "935ce983-9d59-4d26-b683-4369a741ba62",
   "metadata": {
    "slideshow": {
     "slide_type": "subslide"
    },
    "tags": [],
    "user_expressions": []
   },
   "source": [
    "Arrays also have their own functions and properties"
   ]
  },
  {
   "cell_type": "code",
   "execution_count": 12,
   "id": "76579f1a-7160-46c2-b646-9b7f35e3b341",
   "metadata": {
    "slideshow": {
     "slide_type": "fragment"
    }
   },
   "outputs": [
    {
     "name": "stdout",
     "output_type": "stream",
     "text": [
      "(2,)\n",
      "(2, 2)\n"
     ]
    }
   ],
   "source": [
    "print(ca.shape)\n",
    "print(da.shape)"
   ]
  },
  {
   "cell_type": "code",
   "execution_count": 13,
   "id": "efbb7e0c-e949-4520-aafe-608853531e42",
   "metadata": {
    "slideshow": {
     "slide_type": "fragment"
    }
   },
   "outputs": [
    {
     "name": "stdout",
     "output_type": "stream",
     "text": [
      "da= [[1 2]\n",
      " [3 4]]\n",
      "Sum of all elements da.sum()= 10\n",
      "Sum of all elements in each column da.sum(axis=0)= [4 6]\n",
      "Sum of all elements in each row da.sum(axis=1)= [3 7]\n",
      "dot product is ca.dot(da)= [ 7 10]\n"
     ]
    }
   ],
   "source": [
    "print('da=', da)\n",
    "print('Sum of all elements da.sum()=', da.sum())\n",
    "print('Sum of all elements in each column da.sum(axis=0)=', da.sum(axis=0))\n",
    "print('Sum of all elements in each row da.sum(axis=1)=', da.sum(axis=1))\n",
    "print('dot product is ca.dot(da)=', ca.dot(da))"
   ]
  },
  {
   "cell_type": "markdown",
   "id": "9ca44bac-5234-4966-a761-c10107051272",
   "metadata": {
    "slideshow": {
     "slide_type": "subslide"
    },
    "user_expressions": []
   },
   "source": [
    "## We can create special arrays/matrices using Numpy's functions and classes"
   ]
  },
  {
   "cell_type": "code",
   "execution_count": 14,
   "id": "9e6068f6-bb11-414b-8cf4-e47552908dff",
   "metadata": {
    "slideshow": {
     "slide_type": "fragment"
    }
   },
   "outputs": [
    {
     "name": "stdout",
     "output_type": "stream",
     "text": [
      "[[1. 1. 1. 1.]\n",
      " [1. 1. 1. 1.]\n",
      " [1. 1. 1. 1.]]\n",
      "[[0. 0.]\n",
      " [0. 0.]]\n",
      "[[1. 0.]\n",
      " [0. 1.]]\n",
      "[1 1]\n"
     ]
    }
   ],
   "source": [
    "print(np.ones((3,4)))\n",
    "print(np.zeros((2,2)))\n",
    "print(np.eye(2))\n",
    "print(np.ones_like(ca))"
   ]
  },
  {
   "cell_type": "markdown",
   "id": "4d4e5111-5f5c-41c1-8e44-facfc02b8354",
   "metadata": {
    "slideshow": {
     "slide_type": "subslide"
    },
    "user_expressions": []
   },
   "source": [
    "## Random Numbers with `np.random`"
   ]
  },
  {
   "cell_type": "markdown",
   "id": "230b88a1-d657-466e-90e7-9130e509531b",
   "metadata": {
    "slideshow": {
     "slide_type": "fragment"
    },
    "user_expressions": []
   },
   "source": [
    "## Uniform distribution `np.random.uniform(low, high, size)`"
   ]
  },
  {
   "cell_type": "code",
   "execution_count": 15,
   "id": "bb3b2f57-a667-4d69-b3ff-745344f8e8b7",
   "metadata": {
    "slideshow": {
     "slide_type": "fragment"
    }
   },
   "outputs": [
    {
     "data": {
      "text/plain": [
       "array([-0.20712042, -0.67451478, -0.19031914,  0.57880983,  0.29352439,\n",
       "        0.91613691, -0.09538315, -0.6654903 , -0.95672853,  0.18095784])"
      ]
     },
     "execution_count": 15,
     "metadata": {},
     "output_type": "execute_result"
    }
   ],
   "source": [
    "np.random.uniform(-1,1,10)"
   ]
  },
  {
   "cell_type": "markdown",
   "id": "39b256cc-6fca-4a0e-9cde-d56f921754df",
   "metadata": {
    "slideshow": {
     "slide_type": "subslide"
    },
    "tags": [],
    "user_expressions": []
   },
   "source": [
    "## Normal Distribution `np.random.normal(loc, scale, size)`"
   ]
  },
  {
   "cell_type": "code",
   "execution_count": 16,
   "id": "a7baaae9-562f-4cb8-9cb7-a55a8e79770f",
   "metadata": {
    "slideshow": {
     "slide_type": "fragment"
    }
   },
   "outputs": [
    {
     "data": {
      "text/plain": [
       "array([[ 9.67795707,  9.76867423,  8.78875571],\n",
       "       [ 8.86559723,  9.22202159, 11.010546  ],\n",
       "       [10.81623163, 10.47556889,  8.99364409]])"
      ]
     },
     "execution_count": 16,
     "metadata": {},
     "output_type": "execute_result"
    }
   ],
   "source": [
    "np.random.normal(10, 1, size=(3,3))"
   ]
  },
  {
   "cell_type": "markdown",
   "id": "5cf1aa80",
   "metadata": {
    "slideshow": {
     "slide_type": "subslide"
    }
   },
   "source": [
    "# Example"
   ]
  },
  {
   "cell_type": "markdown",
   "id": "8771bc81-897d-4c8e-b5e8-4929a09f5740",
   "metadata": {
    "slideshow": {
     "slide_type": "fragment"
    },
    "tags": [],
    "user_expressions": []
   },
   "source": [
    "Let's create a simple random walk and plot it. A random walk is a variable $x_t$ that satisfies\n",
    "$$\n",
    "x_{t+1} = a_0 + x_t + \\varepsilon_t\n",
    "$$\n",
    "where $a_0$ is some real number, known as *drift*, and $\\varepsilon_t$ is a random variable that is Normally distributed with mean 0 and standard deviation $\\sigma^2$, i.e., \n",
    "$$\n",
    "\\varepsilon_t\\sim\\mathcal{N}(0,\\sigma^2).\n",
    "$$\n",
    "For simplicity, let's assume the drift $a_0=0$."
   ]
  },
  {
   "cell_type": "code",
   "execution_count": 26,
   "id": "425939c6-b70a-4107-92d8-6ce8404f9286",
   "metadata": {
    "slideshow": {
     "slide_type": "subslide"
    }
   },
   "outputs": [
    {
     "data": {
      "application/vnd.jupyter.widget-view+json": {
       "model_id": "334a9342d47a4ef4a5572b4460e9178d",
       "version_major": 2,
       "version_minor": 0
      },
      "image/png": "[encoded data removed]",
      "text/html": [
       "\n",
       "            <div style=\"display: inline-block;\">\n",
       "                <div class=\"jupyter-widgets widget-label\" style=\"text-align: center;\">\n",
       "                    Figure\n",
       "                </div>\n",
       "                <img src='data:image/png;base64,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' width=800.0/>\n",
       "            </div>\n",
       "        "
      ],
      "text/plain": [
       "Canvas(toolbar=Toolbar(toolitems=[('Home', 'Reset original view', 'home', 'home'), ('Back', 'Back to previous …"
      ]
     },
     "metadata": {},
     "output_type": "display_data"
    }
   ],
   "source": [
    "#np.random.seed(123456)\n",
    "x0 = 0\n",
    "x = [x0]\n",
    "[x.append(x[-1] + np.random.normal() ) for i in range(500)]\n",
    "fig, ax = plt.subplots(figsize=(8,5))\n",
    "ax.plot(x)\n",
    "plt.title(r'A simple random walk', fontsize=24)\n",
    "plt.xlabel(r'Period $t$', fontsize=18)\n",
    "plt.ylabel(r'$x_t$', fontsize=18)\n",
    "plt.show()"
   ]
  },
  {
   "cell_type": "markdown",
   "id": "b8ab4165-cd93-4219-8871-cbe63f32689b",
   "metadata": {
    "slideshow": {
     "slide_type": "subslide"
    },
    "tags": [],
    "user_expressions": []
   },
   "source": [
    "<div class=\"alert alert-block alert-warning\">\n",
    "    <b>Exercise 1:</b> Write a function that computes the level of output generated by a constant returns to scale Cobb-Douglas production function, i.e., such that it computes $A\\cdot K^\\alpha \\cdot L^{1-\\alpha}$.\n",
    "</div>"
   ]
  },
  {
   "cell_type": "code",
   "execution_count": 33,
   "id": "433f1c07-9587-41b2-bc14-ec9c62a04782",
   "metadata": {
    "slideshow": {
     "slide_type": "-"
    }
   },
   "outputs": [],
   "source": [
    "def CobbDouglas(K=1, L=1, A=1, alpha=0.3):\n",
    "    '''\n",
    "    This function computes the level of output of a Cobb-Douglas production function.\n",
    "    Given values of K, L, A, and alpha it returns $A\\cdot K^\\alpha \\cdot L^{1-\\alpha}$.\n",
    "    Parameters:\n",
    "    -----------\n",
    "    K: float, integer or any other number, default=1\n",
    "    L: float, integer or any other number, default=1\n",
    "    A: float, integer or any other number, default=1\n",
    "    alpha: float between (0,1), default=0.3\n",
    "    \n",
    "    Returns:\n",
    "    --------\n",
    "    out = A * K**alpha * L**(1-alpha)\n",
    "    \n",
    "    Example:\n",
    "    >>> out = CobbDouglas(4, 9, 2, 1/2)\n",
    "    >>> out\n",
    "        12\n",
    "    '''"
   ]
  },
  {
   "cell_type": "markdown",
   "id": "4108e0e6-b085-4adc-b552-de60240d2af9",
   "metadata": {
    "slideshow": {
     "slide_type": "subslide"
    },
    "tags": [],
    "user_expressions": []
   },
   "source": [
    "<div class=\"alert alert-block alert-warning\">\n",
    "    <b>Exercise 2:</b> Use the function you created and plot the production function as a function of $K$ for given values of $A$ and $L$. <b>Hint:</b> Use the <code>np.linspace(0, 5, 100)</code> function to create an array of values of $K$ with 100 point between 0 and 5.\n",
    "</div>"
   ]
  },
  {
   "cell_type": "markdown",
   "id": "65fadbca-afa5-4032-acab-28834bb3e7b0",
   "metadata": {
    "slideshow": {
     "slide_type": "fragment"
    },
    "tags": [],
    "user_expressions": []
   },
   "source": [
    "<div class=\"alert alert-block alert-warning\">\n",
    "    <b>Exercise 3:</b> Show with a plot the effect of increasing $A$ from 1 to 2, 4, or 5.\n",
    "</div>"
   ]
  },
  {
   "cell_type": "markdown",
   "id": "ff03a853-9ecc-49c8-9b85-0a23cfe0d617",
   "metadata": {
    "slideshow": {
     "slide_type": "fragment"
    },
    "tags": [],
    "user_expressions": []
   },
   "source": [
    "<div class=\"alert alert-block alert-warning\">\n",
    "    <b>Exercise 4:</b> Show with a plot the effect of increasing $L$ from 1 to 2, 4, 5.\n",
    "</div>"
   ]
  },
  {
   "cell_type": "markdown",
   "id": "47d77009",
   "metadata": {
    "slideshow": {
     "slide_type": "fragment"
    },
    "tags": [],
    "user_expressions": []
   },
   "source": [
    "<div class=\"alert alert-block alert-warning\">\n",
    "    <b>Exercise 5:</b> Save the previous plots into <b>png, jpeg, and pdf</b> files.\n",
    "</div>"
   ]
  },
  {
   "cell_type": "markdown",
   "id": "7e069b15-d310-4a6f-909f-dc37469f76b7",
   "metadata": {
    "slideshow": {
     "slide_type": "slide"
    },
    "tags": [],
    "user_expressions": []
   },
   "source": [
    "Notebook written by [Ömer Özak](http://omerozak.com) for his students in Economics at [Southern Methodist University](http://www.smu.edu). Feel free to use, distribute, or contribute."
   ]
  },
  {
   "cell_type": "markdown",
   "id": "45b16c47-b621-4de7-bf4d-25e55e8c3509",
   "metadata": {
    "slideshow": {
     "slide_type": "-"
    },
    "tags": [],
    "user_expressions": []
   },
   "source": [
    "[<center><img src=\"https://github.com/measuring-culture/Expanding-Measurement-Culture-Facebook-JRSI/blob/main/pics/SMUlogowWordmarkRB.jpg?raw=true\" width=\"250\"></center>](http://omerozak.com)"
   ]
  }
 ],
 "metadata": {
  "celltoolbar": "Slideshow",
  "kernelspec": {
   "display_name": "Python 3 (ipykernel)",
   "language": "python",
   "name": "python3"
  },
  "language_info": {
   "codemirror_mode": {
    "name": "ipython",
    "version": 3
   },
   "file_extension": ".py",
   "mimetype": "text/x-python",
   "name": "python",
   "nbconvert_exporter": "python",
   "pygments_lexer": "ipython3",
   "version": "3.9.13"
  },
  "nbTranslate": {
   "displayLangs": [
    "*"
   ],
   "hotkey": "alt-t",
   "langInMainMenu": true,
   "sourceLang": "en",
   "targetLang": "fr",
   "useGoogleTranslate": true
  },
  "widgets": {
   "application/vnd.jupyter.widget-state+json": {
    "state": {},
    "version_major": 2,
    "version_minor": 0
   }
  }
 },
 "nbformat": 4,
 "nbformat_minor": 5
}
